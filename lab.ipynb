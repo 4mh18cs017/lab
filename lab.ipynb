{
 "cells": [
  {
   "cell_type": "markdown",
   "id": "6c3a7cac",
   "metadata": {},
   "source": [
    "### A*"
   ]
  },
  {
   "cell_type": "code",
   "execution_count": 47,
   "id": "fa4ff96b",
   "metadata": {},
   "outputs": [],
   "source": [
    "op=set()\n",
    "cl=set()\n",
    "d={}\n",
    "p={}\n",
    "graph = {\n",
    "    'A': [('C', 12), ('D', 6)],\n",
    "    'B': [('C', 10),('E',7)],\n",
    "    'C': [('G', 5)],\n",
    "    'D': [('G', 16)],\n",
    "    'E': [('C',2)],\n",
    "    'S': [('A', 4),('B',3)]    \n",
    "}\n",
    "def h(n):\n",
    "    H_dist = {\n",
    "            'A': 12,\n",
    "            'B': 11,\n",
    "            'C': 4,\n",
    "            'D': 11,\n",
    "            'E': 6,\n",
    "            'S': 14,\n",
    "            'G': 0,\n",
    "            }\n",
    "    return H_dist[n]\n",
    "def neigh(n):\n",
    "    if n in graph:\n",
    "        return graph[n]\n",
    "    else:\n",
    "        return None"
   ]
  },
  {
   "cell_type": "code",
   "execution_count": null,
   "id": "a7d35e72",
   "metadata": {},
   "outputs": [],
   "source": []
  },
  {
   "cell_type": "code",
   "execution_count": 48,
   "id": "cfe919f7",
   "metadata": {},
   "outputs": [],
   "source": [
    "def astar(start,stop):\n",
    "    op=set(start)\n",
    "    d[start]=0\n",
    "    p[start]=start\n",
    "    while len(op)>0:\n",
    "        n=None\n",
    "        for i in op:\n",
    "            if n==None or d[i]+h(i)<d[n]+h(n):\n",
    "                n=i\n",
    "        if n==stop or graph[n]==None:\n",
    "            pass\n",
    "        else:\n",
    "            for (m,w) in neigh(n):\n",
    "                if m not in op and m not in cl:\n",
    "                    op.add(m)\n",
    "                    p[m]=n\n",
    "                    d[m]=d[n]+w\n",
    "                else:\n",
    "                    if d[m]>d[n]+w:\n",
    "                        d[m]=d[n]+w\n",
    "                        p[m]=n\n",
    "                        if m in cl:\n",
    "                            cl.remove(m)\n",
    "                            op.add(m)\n",
    "        if n==None:\n",
    "            print('path does not exist')\n",
    "            return None\n",
    "        if n==stop:\n",
    "            path=[]\n",
    "            while p[n]!=n:\n",
    "                path.append(n)\n",
    "                n=p[n]\n",
    "            path.append(start)\n",
    "            path.reverse()\n",
    "            print('path found {}'.format(path))\n",
    "            return path\n",
    "        op.remove(n)\n",
    "        cl.add(n)\n",
    "    print('path does not exist ')\n",
    "    return None\n"
   ]
  },
  {
   "cell_type": "code",
   "execution_count": 49,
   "id": "b951eed6",
   "metadata": {},
   "outputs": [
    {
     "name": "stdout",
     "output_type": "stream",
     "text": [
      "path found ['S', 'B', 'E', 'C', 'G']\n"
     ]
    },
    {
     "data": {
      "text/plain": [
       "['S', 'B', 'E', 'C', 'G']"
      ]
     },
     "execution_count": 49,
     "metadata": {},
     "output_type": "execute_result"
    }
   ],
   "source": [
    "astar('S','G')"
   ]
  },
  {
   "cell_type": "code",
   "execution_count": 46,
   "id": "edb62380",
   "metadata": {},
   "outputs": [],
   "source": [
    "graph={'S':[('A',1),('G',12)],\n",
    "      'A':[('B',3),('C',1)],\n",
    "      'B':[('D',3)],\n",
    "      'C':[('D',1),('G',2)],\n",
    "      'D':[('G',3)],\n",
    "      'G':None}\n",
    "heu = {'S':4,'A':2,'B':6,'C':2,'D':3,'G':0}\n"
   ]
  },
  {
   "cell_type": "markdown",
   "id": "40d7afe2",
   "metadata": {},
   "source": [
    "### AO*"
   ]
  },
  {
   "cell_type": "code",
   "execution_count": 1,
   "id": "7743eb93",
   "metadata": {},
   "outputs": [
    {
     "name": "stdout",
     "output_type": "stream",
     "text": [
      "heuristic value {'A': 1, 'B': 6, 'C': 2, 'D': 12, 'E': 2, 'F': 1, 'G': 5, 'H': 7, 'I': 7, 'J': 1}\n",
      "solution graph {}\n",
      "processing node: A\n",
      "-----------------\n",
      "status    0\n",
      "neigh   A\n",
      "[[('B', 1), ('C', 1)], [('D', 1)]]\n",
      "status    0\n",
      "status    0\n",
      "heuristic value {'A': 10, 'B': 6, 'C': 2, 'D': 12, 'E': 2, 'F': 1, 'G': 5, 'H': 7, 'I': 7, 'J': 1}\n",
      "solution graph {}\n",
      "processing node: B\n",
      "-----------------\n",
      "status    0\n",
      "neigh   B\n",
      "  \n",
      "heuristic value {'A': 10, 'B': 0, 'C': 2, 'D': 12, 'E': 2, 'F': 1, 'G': 5, 'H': 7, 'I': 7, 'J': 1}\n",
      "solution graph {'B': []}\n",
      "processing node: A\n",
      "-----------------\n",
      "status    2\n",
      "neigh   A\n",
      "[[('B', 1), ('C', 1)], [('D', 1)]]\n",
      "status    -1\n",
      "status    0\n",
      "heuristic value {'A': 4, 'B': 0, 'C': 2, 'D': 12, 'E': 2, 'F': 1, 'G': 5, 'H': 7, 'I': 7, 'J': 1}\n",
      "solution graph {'B': []}\n",
      "processing node: C\n",
      "-----------------\n",
      "status    0\n",
      "neigh   C\n",
      "  \n",
      "heuristic value {'A': 4, 'B': 0, 'C': 0, 'D': 12, 'E': 2, 'F': 1, 'G': 5, 'H': 7, 'I': 7, 'J': 1}\n",
      "solution graph {'B': [], 'C': []}\n",
      "processing node: A\n",
      "-----------------\n",
      "status    2\n",
      "neigh   A\n",
      "[[('B', 1), ('C', 1)], [('D', 1)]]\n",
      "status    -1\n",
      "status    -1\n",
      "for graph soln traverse the graph A\n",
      "------\n",
      "{'B': [], 'C': [], 'A': ['B', 'C']}\n",
      "------------------\n",
      "heuristic value {'A': 2, 'B': 0, 'C': 0, 'D': 12, 'E': 2, 'F': 1, 'G': 5, 'H': 7, 'I': 7, 'J': 1}\n",
      "solution graph {'B': [], 'C': [], 'A': ['B', 'C']}\n"
     ]
    }
   ],
   "source": [
    "class Graph:\n",
    "    def __init__(self,graph,heu,sn):\n",
    "        self.graph = graph\n",
    "        self.h=heu\n",
    "        self.start=sn\n",
    "        self.par={}\n",
    "        self.sta={}\n",
    "        self.sg={}\n",
    "    def applyaostar(self):\n",
    "        self.aostar(self.start,False)\n",
    "    def getneigh(self,v):\n",
    "        print('neigh  ',v)\n",
    "        print(self.graph.get(v,'  '))\n",
    "        return self.graph.get(v,'')\n",
    "    def getsta(self,v):\n",
    "        print('status   ',self.sta.get(v,0))\n",
    "        return self.sta.get(v,0)\n",
    "    def setsta(self,v,val):\n",
    "        self.sta[v]=val\n",
    "    def gethval(self,n):\n",
    "        return self.h.get(n,0)\n",
    "    def sethval(self,n,val):\n",
    "        self.h[n]=val\n",
    "    def printsol(self):\n",
    "        print(\"for graph soln traverse the graph\",self.start)\n",
    "        print(\"------\")\n",
    "        print(self.sg)\n",
    "        print(\"------------------\")\n",
    "    def computemincost(self,v):\n",
    "        mincost=0\n",
    "        costtochild={}\n",
    "        costtochild[mincost]=[]\n",
    "        flag=True\n",
    "        for nodeinfo in self.getneigh(v):\n",
    "            cost=0\n",
    "            nodelist=[]\n",
    "            for c,weight in nodeinfo:\n",
    "                cost+=self.gethval(c)+weight\n",
    "                nodelist.append(c)\n",
    "            if flag==True:\n",
    "                mincost=cost\n",
    "                costtochild[mincost]=nodelist\n",
    "                flag=False\n",
    "            else:\n",
    "                if mincost>cost:\n",
    "                    mincost=cost\n",
    "                    costtochild[mincost]=nodelist\n",
    "        return mincost,costtochild[mincost]\n",
    "    def aostar(self,v,backtracking):\n",
    "        print(\"heuristic value\",self.h)\n",
    "        print(\"solution graph\",self.sg)\n",
    "        print(\"processing node:\",v)\n",
    "        print(\"-----------------\")\n",
    "        if self.getsta(v)>=0:\n",
    "            mincost,childnodelist=self.computemincost(v)\n",
    "            self.sethval(v,mincost)\n",
    "            self.setsta(v,len(childnodelist))\n",
    "            solved=True\n",
    "            for child in childnodelist:\n",
    "                self.par[child]=v\n",
    "                if self.getsta(child)!=-1:\n",
    "                    solved = solved & False\n",
    "        if solved == True:\n",
    "            self.setsta(v,-1)\n",
    "            self.sg[v]=childnodelist\n",
    "        if v!=self.start:\n",
    "            self.aostar(self.par[v],True)\n",
    "        if backtracking == False:\n",
    "            for child in childnodelist:\n",
    "                self.setsta(child,0)\n",
    "                self.aostar(child,False)\n",
    "h1={'A':1,'B':6,'C':2,'D':12,'E':2,'F':1,'G':5,'H':7,'I':7,'J':1}\n",
    "graph1={'A':[[('B',1),('C',1)],[('D',1)]],\n",
    "       }\n",
    "g1=Graph(graph1,h1,'A')\n",
    "g1.applyaostar()\n",
    "g1.printsol()\n",
    "print(\"heuristic value\",g1.h)\n",
    "print(\"solution graph\",g1.sg)\n"
   ]
  },
  {
   "cell_type": "code",
   "execution_count": 28,
   "id": "14f0cbba",
   "metadata": {},
   "outputs": [
    {
     "name": "stdout",
     "output_type": "stream",
     "text": [
      "{'A': 1, 'B': 6, 'C': 2, 'D': 12, 'E': 2, 'F': 1, 'G': 5, 'H': 6, 'I': 7, 'J': 1}\n",
      "{}\n",
      "A\n",
      "1  ['B']\n",
      "1  ['B', 'C']\n",
      "2  ['B', 'C']\n",
      "{0: [], 10: ['B', 'C']}\n",
      "1  ['D']\n",
      "{'A': 10, 'B': 6, 'C': 2, 'D': 12, 'E': 2, 'F': 1, 'G': 5, 'H': 6, 'I': 7, 'J': 1}\n",
      "{}\n",
      "B\n",
      "{'A': 10, 'B': 0, 'C': 2, 'D': 12, 'E': 2, 'F': 1, 'G': 5, 'H': 6, 'I': 7, 'J': 1}\n",
      "{'B': []}\n",
      "A\n",
      "1  ['B']\n",
      "1  ['B', 'C']\n",
      "2  ['B', 'C']\n",
      "{0: [], 4: ['B', 'C']}\n",
      "1  ['D']\n",
      "{'A': 4, 'B': 0, 'C': 2, 'D': 12, 'E': 2, 'F': 1, 'G': 5, 'H': 6, 'I': 7, 'J': 1}\n",
      "{'B': []}\n",
      "C\n",
      "{'A': 4, 'B': 0, 'C': 0, 'D': 12, 'E': 2, 'F': 1, 'G': 5, 'H': 6, 'I': 7, 'J': 1}\n",
      "{'B': [], 'C': []}\n",
      "A\n",
      "1  ['B']\n",
      "1  ['B', 'C']\n",
      "2  ['B', 'C']\n",
      "{0: [], 2: ['B', 'C']}\n",
      "1  ['D']\n",
      "A\n",
      "{'B': [], 'C': [], 'A': ['B', 'C']}\n",
      "heuristic value {'A': 2, 'B': 0, 'C': 0, 'D': 12, 'E': 2, 'F': 1, 'G': 5, 'H': 6, 'I': 7, 'J': 1}\n",
      "solution graph {'B': [], 'C': [], 'A': ['B', 'C']}\n"
     ]
    }
   ],
   "source": [
    "class Graph:\n",
    "    def __init__(s,g,h,st):\n",
    "        s.h=h\n",
    "        s.g=g\n",
    "        s.st=st\n",
    "        s.sg={}\n",
    "        s.p={}\n",
    "        s.sta={}\n",
    "    def applyao(s):\n",
    "        s.aostar(s.st,False)\n",
    "    def aostar(s,v,back):\n",
    "        print(s.h)\n",
    "        print(s.sg)\n",
    "        print(v)\n",
    "        if s.getsta(v)>=0:\n",
    "            mcost,childnode=s.mincost(v)\n",
    "            s.seth(v,mcost)\n",
    "            s.setsta(v,len(childnode))\n",
    "            solved=True\n",
    "            for i in childnode:\n",
    "                s.p[i]=v\n",
    "                if s.getsta(i)!=-1:\n",
    "                    solved=solved&False\n",
    "        if solved ==True:\n",
    "            s.setsta(v,-1)\n",
    "            s.sg[v]=childnode\n",
    "        if v!=s.st:\n",
    "            s.aostar(s.p[v],True)\n",
    "        if back==False:\n",
    "            for i in childnode:\n",
    "                s.setsta(i,0)\n",
    "                s.aostar(i,False)\n",
    "    def mincost(s,v):\n",
    "        mcost=0\n",
    "        childnode={}\n",
    "        childnode[mcost]=[]\n",
    "        flag=True\n",
    "        for i in s.getneigh(v):\n",
    "            cost=0\n",
    "            nodelist=[]\n",
    "            for c,w in i:\n",
    "                cost+=s.geth(c)+w\n",
    "                nodelist.append(c)\n",
    "                print('1 ',nodelist)\n",
    "            if flag==True:\n",
    "                mcost=cost\n",
    "                childnode[mcost]=nodelist\n",
    "                flag=False\n",
    "                print('2 ',nodelist)\n",
    "                print(childnode)\n",
    "            else:\n",
    "                if mcost>cost:\n",
    "                    mcost=cost\n",
    "                    childnode[mcost]=nodelist\n",
    "                    print('3 ',nodelist)\n",
    "                    print('childnode',childnode[mcost])\n",
    "        return mcost,childnode[mcost]\n",
    "    def printsol(s):\n",
    "        print(s.st)\n",
    "        print(s.sg)\n",
    "    def getneigh(s,v):\n",
    "        return s.g.get(v,'')\n",
    "    def getsta(s,v):\n",
    "        return s.sta.get(v,0)\n",
    "    def setsta(s,v,val):\n",
    "        s.sta[v]=val\n",
    "    def geth(s,v):\n",
    "        return s.h.get(v,0)\n",
    "    def seth(s,v,val):\n",
    "        s.h[v]=val\n",
    "h1={'A': 1, 'B': 6, 'C': 2, 'D': 12, 'E': 2, 'F': 1, 'G': 5, 'H': 6, 'I': 7, 'J': 1}\n",
    "graph1={'A': [[('B', 1), ('C', 1)], [('D', 1)]],\n",
    "\n",
    "       }\n",
    "g1=Graph(graph1,h1,'A')\n",
    "g1.applyao()\n",
    "g1.printsol()\n",
    "print(\"heuristic value\",g1.h)\n",
    "print(\"solution graph\",g1.sg)\n",
    "            \n",
    "    "
   ]
  },
  {
   "cell_type": "markdown",
   "id": "2a76048f",
   "metadata": {},
   "source": [
    "### CE"
   ]
  },
  {
   "cell_type": "code",
   "execution_count": 34,
   "id": "0a9658e6",
   "metadata": {},
   "outputs": [
    {
     "data": {
      "text/plain": [
       "['&', '&', '&', '&', '&', '&']"
      ]
     },
     "execution_count": 34,
     "metadata": {},
     "output_type": "execute_result"
    }
   ],
   "source": [
    "['&']*6"
   ]
  },
  {
   "cell_type": "code",
   "execution_count": 38,
   "id": "baee6856",
   "metadata": {},
   "outputs": [
    {
     "data": {
      "text/plain": [
       "[['&', '&', '&', '&', '&', '&'],\n",
       " ['&', '&', '&', '&', '&', '&'],\n",
       " ['&', '&', '&', '&', '&', '&'],\n",
       " ['&', '&', '&', '&', '&', '&'],\n",
       " ['&', '&', '&', '&', '&', '&'],\n",
       " ['&', '&', '&', '&', '&', '&']]"
      ]
     },
     "execution_count": 38,
     "metadata": {},
     "output_type": "execute_result"
    }
   ],
   "source": [
    "g=[['&' for i in range(6)]for i in range(6)]\n",
    "g"
   ]
  },
  {
   "cell_type": "code",
   "execution_count": 65,
   "id": "1dbfddfc",
   "metadata": {},
   "outputs": [],
   "source": [
    "import csv"
   ]
  },
  {
   "cell_type": "code",
   "execution_count": 66,
   "id": "7c8bd79c",
   "metadata": {},
   "outputs": [],
   "source": [
    "file = open('lab2.csv')"
   ]
  },
  {
   "cell_type": "code",
   "execution_count": 67,
   "id": "febfb602",
   "metadata": {},
   "outputs": [
    {
     "data": {
      "text/plain": [
       "[['sunny', 'warm', 'normal', 'strong', 'warm', 'same', 'yes'],\n",
       " ['sunny', 'warm', 'high', 'strong', 'warm', 'same', 'yes'],\n",
       " ['cloudy', 'cold', 'high', 'strong', 'warm', 'change', 'no'],\n",
       " ['sunny', 'warm', 'high', 'strong', 'cool', 'change', 'yes']]"
      ]
     },
     "execution_count": 67,
     "metadata": {},
     "output_type": "execute_result"
    }
   ],
   "source": [
    "data=list(csv.reader(file))[1:]\n",
    "data"
   ]
  },
  {
   "cell_type": "code",
   "execution_count": 68,
   "id": "ffdfb7c4",
   "metadata": {},
   "outputs": [
    {
     "data": {
      "text/plain": [
       "([['sunny', 'warm', 'normal', 'strong', 'warm', 'same'],\n",
       "  ['sunny', 'warm', 'high', 'strong', 'warm', 'same'],\n",
       "  ['cloudy', 'cold', 'high', 'strong', 'warm', 'change'],\n",
       "  ['sunny', 'warm', 'high', 'strong', 'cool', 'change']],\n",
       " ['yes', 'yes', 'no', 'yes'])"
      ]
     },
     "execution_count": 68,
     "metadata": {},
     "output_type": "execute_result"
    }
   ],
   "source": [
    "con=[]\n",
    "tar=[]\n",
    "for i in data:\n",
    "    con.append(i[:-1])\n",
    "    tar.append(i[-1])\n",
    "con,tar"
   ]
  },
  {
   "cell_type": "code",
   "execution_count": 69,
   "id": "416ed20d",
   "metadata": {},
   "outputs": [
    {
     "data": {
      "text/plain": [
       "(['0', '0', '0', '0', '0', '0'],\n",
       " [['?', '?', '?', '?', '?', '?'],\n",
       "  ['?', '?', '?', '?', '?', '?'],\n",
       "  ['?', '?', '?', '?', '?', '?'],\n",
       "  ['?', '?', '?', '?', '?', '?'],\n",
       "  ['?', '?', '?', '?', '?', '?'],\n",
       "  ['?', '?', '?', '?', '?', '?']])"
      ]
     },
     "execution_count": 69,
     "metadata": {},
     "output_type": "execute_result"
    }
   ],
   "source": [
    "sp=['0']*len(con[0])\n",
    "ge=[['?' for i in range(len(sp))]for i in range(len(sp))]\n",
    "sp,ge"
   ]
  },
  {
   "cell_type": "code",
   "execution_count": 70,
   "id": "c0e3113c",
   "metadata": {},
   "outputs": [],
   "source": [
    "for i,ins in enumerate(con):\n",
    "    if tar[i]=='yes':\n",
    "        for x in range(len(sp)):\n",
    "            if sp[x]=='0':\n",
    "                sp[x]=ins[x]\n",
    "            elif ins[x]!=sp[x]:\n",
    "                sp[x]='?'\n",
    "                ge[x][x]='?'\n",
    "    if tar[i]=='no':\n",
    "        for x in range(len(sp)):\n",
    "            if ins[x]!=sp[x]:\n",
    "                ge[x][x]=sp[x]\n",
    "            else:\n",
    "                ge[x][x]='?'"
   ]
  },
  {
   "cell_type": "code",
   "execution_count": 71,
   "id": "9697c015",
   "metadata": {},
   "outputs": [
    {
     "data": {
      "text/plain": [
       "([2, 3, 4, 5],\n",
       " [['sunny', '?', '?', '?', '?', '?'],\n",
       "  ['?', 'warm', '?', '?', '?', '?'],\n",
       "  ['?', '?', '?', '?', '?', '?'],\n",
       "  ['?', '?', '?', '?', '?', '?'],\n",
       "  ['?', '?', '?', '?', '?', '?'],\n",
       "  ['?', '?', '?', '?', '?', '?']])"
      ]
     },
     "execution_count": 71,
     "metadata": {},
     "output_type": "execute_result"
    }
   ],
   "source": [
    "indi=[i for i,val in enumerate(ge) if val==['?']*len(sp)]\n",
    "indi,ge"
   ]
  },
  {
   "cell_type": "code",
   "execution_count": 72,
   "id": "6515a626",
   "metadata": {},
   "outputs": [],
   "source": [
    "for i in indi:\n",
    "    ge.remove(['?']*len(sp))"
   ]
  },
  {
   "cell_type": "code",
   "execution_count": 73,
   "id": "70e50cb4",
   "metadata": {},
   "outputs": [
    {
     "data": {
      "text/plain": [
       "(['sunny', 'warm', '?', 'strong', '?', '?'],\n",
       " [['sunny', '?', '?', '?', '?', '?'], ['?', 'warm', '?', '?', '?', '?']])"
      ]
     },
     "execution_count": 73,
     "metadata": {},
     "output_type": "execute_result"
    }
   ],
   "source": [
    "sp,ge"
   ]
  },
  {
   "cell_type": "markdown",
   "id": "cd718e81",
   "metadata": {},
   "source": [
    "### ID3"
   ]
  },
  {
   "cell_type": "code",
   "execution_count": 6,
   "id": "645253bd",
   "metadata": {},
   "outputs": [
    {
     "name": "stdout",
     "output_type": "stream",
     "text": [
      "data set is\n",
      "[('Outlook', 'Temperature', 'Humidity', 'Windy', 'PlayTennis'), ('Sunny', 'Hot', 'High', 'FALSE', 'No'), ('Sunny', 'Hot', 'High', 'TRUE', 'No'), ('Overcast', 'Hot', 'High', 'FALSE', 'Yes'), ('Rainy', 'Mild', 'High', 'FALSE', 'Yes'), ('Rainy', 'Cool', 'Normal', 'FALSE', 'Yes'), ('Rainy', 'Cool', 'Normal', 'TRUE', 'No'), ('Overcast', 'Cool', 'Normal', 'TRUE', 'Yes'), ('Sunny', 'Mild', 'High', 'FALSE', 'No'), ('Sunny', 'Cool', 'Normal', 'FALSE', 'Yes'), ('Rainy', 'Mild', 'Normal', 'FALSE', 'Yes'), ('Sunny', 'Mild', 'Normal', 'TRUE', 'Yes'), ('Overcast', 'Mild', 'High', 'TRUE', 'Yes'), ('Overcast', 'Hot', 'Normal', 'FALSE', 'Yes'), ('Rainy', 'Mild', 'High', 'TRUE', 'No')]\n",
      "decision tree is given below\n",
      "\n",
      "{'Temperature': {'Hot': {'Humidity': {'High': {'Windy': {'FALSE': {'Outlook': {'Sunny': 'No', 'Overcast': 'Yes'}}, 'TRUE': {'Outlook': {'Sunny': 'No'}}}}, 'Normal': {'Outlook': {'Overcast': {'Windy': {'FALSE': 'Yes'}}}}}}, 'Mild': {'Outlook': {'Rainy': {'Humidity': {'High': {'Windy': {'FALSE': 'Yes', 'TRUE': 'No'}}, 'Normal': {'Windy': {'FALSE': 'Yes'}}}}, 'Sunny': {'Humidity': {'High': {'Windy': {'FALSE': 'No'}}, 'Normal': {'Windy': {'TRUE': 'Yes'}}}}, 'Overcast': {'Humidity': {'High': {'Windy': {'TRUE': 'Yes'}}}}}}, 'Cool': {'Outlook': {'Rainy': {'Humidity': {'Normal': {'Windy': {'FALSE': 'Yes', 'TRUE': 'No'}}}}, 'Overcast': {'Humidity': {'Normal': {'Windy': {'TRUE': 'Yes'}}}}, 'Sunny': {'Humidity': {'Normal': {'Windy': {'FALSE': 'Yes'}}}}}}}}\n",
      "*****\n",
      "testing instance is  ['rainy', 'hot', 'normal', 'weak']\n",
      "target value for the instance is \n",
      "Null\n"
     ]
    }
   ],
   "source": [
    "import csv\n",
    "import math\n",
    "def major_class(data,attributes,target):\n",
    "    freq={}\n",
    "    index=attributes.index(target)\n",
    "    for t in data:\n",
    "        if t[index] in freq:\n",
    "            freq[t[index]]+=1\n",
    "        else:\n",
    "            freq[t[index]]=1\n",
    "    m=0\n",
    "    major=\"\"\n",
    "    for key in freq.keys():\n",
    "        if freq[key]>m:\n",
    "            m=freq[key]\n",
    "            major=key\n",
    "    return major\n",
    "def entropy(attributes,data,targetAttr):\n",
    "    freq={}\n",
    "    data_entropy=0.0\n",
    "    i=0\n",
    "    for entry in attributes:\n",
    "        if targetAttr==entry:\n",
    "            break\n",
    "        i+=1\n",
    "    for entry in data:\n",
    "        if entry[i]=='playtennis':\n",
    "            pass\n",
    "        else:\n",
    "            if entry[i] in freq:\n",
    "                freq[entry[i]]+=1.0\n",
    "            else:\n",
    "                freq[entry[i]]=1.0\n",
    "    for f in freq.values():\n",
    "        data_entropy+=(-f/len(data))*math.log(f/len(data),2)\n",
    "    return data_entropy\n",
    "\n",
    "def info_gain(data,attributes,targetAttr,attr):\n",
    "    freq={}\n",
    "    subset_entropy=0.0\n",
    "    i=attributes.index(attr)\n",
    "    for entry in data:\n",
    "        if entry[i]==attr:\n",
    "            pass\n",
    "        else:\n",
    "            if entry[i] in freq:\n",
    "                freq[entry[i]]+=1.0\n",
    "            else:\n",
    "                freq[entry[i]]=1\n",
    "    for val in freq.keys():\n",
    "        p=sum(freq.values())\n",
    "        val_prob=freq[val]/(p)\n",
    "        data_subset=[entry for entry in data if entry[i]==val]\n",
    "        subset_entropy+=val_prob+entropy(attributes,data_subset,targetAttr)\n",
    "    data_subset=[entry for entry in data if entry[0]!='outlook']\n",
    "    info_gain=entropy(attributes,data_subset,targetAttr)*subset_entropy\n",
    "    return info_gain\n",
    "\n",
    "def attr_choose(data,attributes,target):\n",
    "    best=attributes[0]\n",
    "    max_gain=0\n",
    "    for attr in attributes:\n",
    "        if attr!=target:\n",
    "            new_gain=info_gain(data,attributes,target,attr)\n",
    "            if new_gain>max_gain:\n",
    "                max_gain=new_gain\n",
    "                best=attr\n",
    "    return best\n",
    "\n",
    "def get_values(data,attributes,attr):\n",
    "    i=attributes.index(attr)\n",
    "    values=[]\n",
    "    for entry in data:\n",
    "        if entry[i]==attr:\n",
    "            pass\n",
    "        else:\n",
    "            if entry[i] not in values:\n",
    "                values.append(entry[i])\n",
    "    return values\n",
    "\n",
    "def get_data(data,attributes,best,val):\n",
    "    new_data=[]\n",
    "    i=attributes.index(best)\n",
    "    for entry in data:\n",
    "        if entry[i]==val:\n",
    "            new_entry=[]\n",
    "            for j in range(len(entry)):\n",
    "                if j!=i:\n",
    "                    new_entry.append(entry[j])\n",
    "            new_data.append(new_entry)\n",
    "    return new_data\n",
    "\n",
    "def build_tree(data,attributes,target):\n",
    "    vals=[record[attributes.index(target)]for record in data]\n",
    "    default = major_class(data,attributes,target)\n",
    "    if not data or (len(attributes)-1)<=0:\n",
    "        return default\n",
    "    elif vals.count(vals[0]==len(vals)):\n",
    "        return vals[0]\n",
    "    else:\n",
    "        best=attr_choose(data,attributes,target)\n",
    "        tree = {best:{}}\n",
    "        for val in get_values(data,attributes,best):\n",
    "            new_data=get_data(data,attributes,best,val)\n",
    "            new_attr=attributes[:]\n",
    "            new_attr.remove(best)\n",
    "            subtree=build_tree(new_data,new_attr,target)\n",
    "            tree[best][val]=subtree\n",
    "    return tree\n",
    "def test(attributes,instances,tree):\n",
    "    attribute = next(iter(tree))\n",
    "    i = attributes.index(attribute)\n",
    "    if instances[i] in tree[attribute].keys():\n",
    "        result = tree[attribute][instance[i]]\n",
    "        if instance(result,dict):\n",
    "            return test(attributes,instance,result)\n",
    "        else:\n",
    "            return result\n",
    "    else:\n",
    "        return 'Null'\n",
    "def execute_decision_tree():\n",
    "    data=[]\n",
    "    with open('PlayTennis.csv') as tsv:\n",
    "        for line in csv.reader(tsv):\n",
    "            data.append(tuple(line))\n",
    "    attributes=list(data[0])\n",
    "    target=attributes[-1]\n",
    "    training_set=[x for i,x in enumerate(data)]\n",
    "    print(\"data set is\")\n",
    "    print(training_set)\n",
    "    tree = build_tree(training_set,attributes,target)\n",
    "    print('decision tree is given below\\n')\n",
    "    print(tree)\n",
    "    instance = ['rainy','hot','normal','weak']\n",
    "    print(\"*****\")\n",
    "    print(\"testing instance is \",instance)\n",
    "    print(\"target value for the instance is \")\n",
    "    res=test(attributes,instance,tree)\n",
    "    print(res)\n",
    "execute_decision_tree()\n",
    "    \n",
    "        \n",
    "          \n",
    " "
   ]
  },
  {
   "cell_type": "markdown",
   "id": "6ce7fcca",
   "metadata": {},
   "source": []
  },
  {
   "cell_type": "markdown",
   "id": "fb106291",
   "metadata": {},
   "source": [
    "### LWR"
   ]
  },
  {
   "cell_type": "code",
   "execution_count": 91,
   "id": "6e8bbf7e",
   "metadata": {},
   "outputs": [
    {
     "data": {
      "text/plain": [
       "[<matplotlib.lines.Line2D at 0x178cc46b1c0>]"
      ]
     },
     "execution_count": 91,
     "metadata": {},
     "output_type": "execute_result"
    },
    {
     "data": {
      "image/png": "[encoded data removed]",
      "text/plain": [
       "<Figure size 432x288 with 1 Axes>"
      ]
     },
     "metadata": {
      "needs_background": "light"
     },
     "output_type": "display_data"
    }
   ],
   "source": [
    "import numpy as np\n",
    "import matplotlib.pyplot as plt\n",
    "xtrain=np.array(list(range(3,35))).reshape(32,1)\n",
    "ytrain=np.sin(xtrain)+xtrain**0.75\n",
    "xtest=np.array([i/10 for i in range(400)]).reshape(400,1)\n",
    "ytest=[]\n",
    "\n",
    "for r in range(len(xtest)):\n",
    "    w=np.diag(np.exp(-np.sum((xtrain-xtest[r])**2,axis=1)/(2*0.5**2)))\n",
    "    f1=np.linalg.inv(xtrain.T.dot(w).dot(xtrain))\n",
    "    params=f1.dot(xtrain.T).dot(w).dot(ytrain)\n",
    "    pred=xtest[r].dot(params)\n",
    "    ytest.append(pred)\n",
    "plt.plot(xtrain.squeeze(),ytrain,'o')\n",
    "plt.plot(xtest.squeeze(),ytest,'-') "
   ]
  },
  {
   "cell_type": "markdown",
   "id": "d3e8181e",
   "metadata": {},
   "source": [
    "### KNN"
   ]
  },
  {
   "cell_type": "code",
   "execution_count": 1,
   "id": "eb089ebc",
   "metadata": {},
   "outputs": [
    {
     "name": "stdout",
     "output_type": "stream",
     "text": [
      "ACCURACY of KNN: 0.9736842105263158\n",
      "Confusion Matrix for KNN:\n",
      " [[13  0  0]\n",
      " [ 0 15  1]\n",
      " [ 0  0  9]]\n",
      "Classification Results are:\n",
      "\n",
      "Sample: [5.8 2.8 5.1 2.4]  Actual label: 2  Predicted label: 2\n",
      "Sample: [6.  2.2 4.  1. ]  Actual label: 1  Predicted label: 1\n",
      "Sample: [5.5 4.2 1.4 0.2]  Actual label: 0  Predicted label: 0\n",
      "Sample: [7.3 2.9 6.3 1.8]  Actual label: 2  Predicted label: 2\n",
      "Sample: [5.  3.4 1.5 0.2]  Actual label: 0  Predicted label: 0\n",
      "Sample: [6.3 3.3 6.  2.5]  Actual label: 2  Predicted label: 2\n",
      "Sample: [5.  3.5 1.3 0.3]  Actual label: 0  Predicted label: 0\n",
      "Sample: [6.7 3.1 4.7 1.5]  Actual label: 1  Predicted label: 1\n",
      "Sample: [6.8 2.8 4.8 1.4]  Actual label: 1  Predicted label: 1\n",
      "Sample: [6.1 2.8 4.  1.3]  Actual label: 1  Predicted label: 1\n",
      "Sample: [6.1 2.6 5.6 1.4]  Actual label: 2  Predicted label: 2\n",
      "Sample: [6.4 3.2 4.5 1.5]  Actual label: 1  Predicted label: 1\n",
      "Sample: [6.1 2.8 4.7 1.2]  Actual label: 1  Predicted label: 1\n",
      "Sample: [6.5 2.8 4.6 1.5]  Actual label: 1  Predicted label: 1\n",
      "Sample: [6.1 2.9 4.7 1.4]  Actual label: 1  Predicted label: 1\n",
      "Sample: [4.9 3.6 1.4 0.1]  Actual label: 0  Predicted label: 0\n",
      "Sample: [6.  2.9 4.5 1.5]  Actual label: 1  Predicted label: 1\n",
      "Sample: [5.5 2.6 4.4 1.2]  Actual label: 1  Predicted label: 1\n",
      "Sample: [4.8 3.  1.4 0.3]  Actual label: 0  Predicted label: 0\n",
      "Sample: [5.4 3.9 1.3 0.4]  Actual label: 0  Predicted label: 0\n",
      "Sample: [5.6 2.8 4.9 2. ]  Actual label: 2  Predicted label: 2\n",
      "Sample: [5.6 3.  4.5 1.5]  Actual label: 1  Predicted label: 1\n",
      "Sample: [4.8 3.4 1.9 0.2]  Actual label: 0  Predicted label: 0\n",
      "Sample: [4.4 2.9 1.4 0.2]  Actual label: 0  Predicted label: 0\n",
      "Sample: [6.2 2.8 4.8 1.8]  Actual label: 2  Predicted label: 2\n",
      "Sample: [4.6 3.6 1.  0.2]  Actual label: 0  Predicted label: 0\n",
      "Sample: [5.1 3.8 1.9 0.4]  Actual label: 0  Predicted label: 0\n",
      "Sample: [6.2 2.9 4.3 1.3]  Actual label: 1  Predicted label: 1\n",
      "Sample: [5.  2.3 3.3 1. ]  Actual label: 1  Predicted label: 1\n",
      "Sample: [5.  3.4 1.6 0.4]  Actual label: 0  Predicted label: 0\n",
      "Sample: [6.4 3.1 5.5 1.8]  Actual label: 2  Predicted label: 2\n",
      "Sample: [5.4 3.  4.5 1.5]  Actual label: 1  Predicted label: 1\n",
      "Sample: [5.2 3.5 1.5 0.2]  Actual label: 0  Predicted label: 0\n",
      "Sample: [6.1 3.  4.9 1.8]  Actual label: 2  Predicted label: 2\n",
      "Sample: [6.4 2.8 5.6 2.2]  Actual label: 2  Predicted label: 2\n",
      "Sample: [5.2 2.7 3.9 1.4]  Actual label: 1  Predicted label: 1\n",
      "Sample: [5.7 3.8 1.7 0.3]  Actual label: 0  Predicted label: 0\n",
      "Sample: [6.  2.7 5.1 1.6]  Actual label: 1  Predicted label: 2\n"
     ]
    },
    {
     "data": {
      "image/png": "[encoded data removed]",
      "text/plain": [
       "<Figure size 432x288 with 1 Axes>"
      ]
     },
     "metadata": {
      "needs_background": "light"
     },
     "output_type": "display_data"
    }
   ],
   "source": [
    "from sklearn.datasets import load_iris \n",
    "from sklearn.neighbors import KNeighborsClassifier \n",
    "from sklearn.model_selection import train_test_split   #if it didn't work, replace sklearn.model_selection with sklearn.cross_validation\n",
    "import matplotlib.pyplot as plt\n",
    "#%matplotlib inline                   #this is to plot the graphs in this Jupyter notebook, but not outside of it\n",
    "\n",
    "iris_dataset=load_iris() \n",
    "X_train, X_test, y_train, y_test = train_test_split(iris_dataset[\"data\"], iris_dataset[\"target\"], random_state=0) #By default Train:Test ratio is 3:1\n",
    "\n",
    "kn = KNeighborsClassifier()\n",
    "kn.fit(X_train, y_train)\n",
    "prediction = kn.predict(X_test)\n",
    "\n",
    "import sklearn.metrics as sm\n",
    "print('ACCURACY of KNN:',sm.accuracy_score(y_test,prediction))\n",
    "print('Confusion Matrix for KNN:\\n',sm.confusion_matrix(y_test,prediction))   #Confusion matrix for Data Samples in y_test \n",
    "\n",
    "plt.plot(X_test,y_test,'ro')        #red colored circles represent Actual Data\n",
    "plt.plot(X_test,prediction,'b+')    #Blue colored plus represent Predicted Data\n",
    "\n",
    "\n",
    "\n",
    "#To check detailed info about the predicted data and the actual data of X_TEST \n",
    "y_pred = kn.predict(X_test)\n",
    "print(\"Classification Results are:\\n\")\n",
    "for i in range(0,len(X_test)):\n",
    "    print(\"Sample:\", str(X_test[i]), \" Actual label:\", str(y_test[i]),\" Predicted label:\", str(y_pred[i]))"
   ]
  },
  {
   "cell_type": "markdown",
   "id": "9942cad9",
   "metadata": {},
   "source": [
    "### K-means vs EM"
   ]
  },
  {
   "cell_type": "code",
   "execution_count": 2,
   "id": "84ec0bba",
   "metadata": {},
   "outputs": [
    {
     "name": "stdout",
     "output_type": "stream",
     "text": [
      "K Means Accuracy: 0.8933333333333333\n",
      "Confusion Matrix for KMeans:\n",
      " [[50  0  0]\n",
      " [ 0 48  2]\n",
      " [ 0 14 36]]\n",
      "EM Accuracy: 0.9666666666666667\n",
      "Confusion Matrix for EM:\n",
      " [[50  0  0]\n",
      " [ 0 45  5]\n",
      " [ 0  0 50]]\n"
     ]
    },
    {
     "data": {
      "image/png": "[encoded data removed]",
      "text/plain": [
       "<Figure size 432x288 with 2 Axes>"
      ]
     },
     "metadata": {
      "needs_background": "light"
     },
     "output_type": "display_data"
    }
   ],
   "source": [
    "import matplotlib.pyplot as plt\n",
    "from sklearn.datasets import load_iris\n",
    "import pandas as pd \n",
    "import numpy as np\n",
    "\n",
    "np.random.seed(2)       #the start number of the random number generator with 2.\n",
    "iris=load_iris() \n",
    "x=pd.DataFrame(iris.data)\n",
    "y=pd.DataFrame(iris.target)\n",
    "colormap=np.array(['red','blue','green'])\n",
    "\n",
    "from sklearn.cluster import KMeans \n",
    "kmeans=KMeans(n_clusters=3).fit(x) \n",
    "plt.subplot(1,2,2) \n",
    "plt.title(\"KMeans\") \n",
    "plt.scatter(x[2],x[3],c=colormap[kmeans.labels_])\n",
    "KM_Cluster=kmeans.predict(x)\n",
    "\n",
    "import sklearn.metrics as sm \n",
    "print('K Means Accuracy:',sm.accuracy_score(y,KM_Cluster)) \n",
    "print('Confusion Matrix for KMeans:\\n',sm.confusion_matrix(y,KM_Cluster))\n",
    "\n",
    "from sklearn.mixture import GaussianMixture     #if it didn't work, replace GaussianMixture with GMM\n",
    "gm=GaussianMixture(n_components=3).fit(x) \n",
    "ycluster=gm.predict(x) \n",
    "\n",
    "plt.subplot(1,2,1) \n",
    "plt.title(\"EM\") \n",
    "plt.scatter(x[2],x[3],c=colormap[ycluster]) \n",
    "print('EM Accuracy:',sm.accuracy_score(y,ycluster)) \n",
    "print('Confusion Matrix for EM:\\n',sm.confusion_matrix(y,ycluster))"
   ]
  },
  {
   "cell_type": "markdown",
   "id": "e9f732eb",
   "metadata": {},
   "source": [
    "### NCB"
   ]
  },
  {
   "cell_type": "code",
   "execution_count": 4,
   "id": "1d7f0d4b",
   "metadata": {},
   "outputs": [
    {
     "name": "stdout",
     "output_type": "stream",
     "text": [
      "768\n",
      "768\n",
      "Number of training Instances: 537\n",
      "Number of testing Instances: 231\n",
      "Gaussian Naive Bayes model accuracy(in %): 78.35497835497836\n"
     ]
    },
    {
     "name": "stderr",
     "output_type": "stream",
     "text": [
      "C:\\Users\\Admin\\anaconda3\\lib\\site-packages\\sklearn\\utils\\validation.py:63: FutureWarning: Arrays of bytes/strings is being converted to decimal numbers if dtype='numeric'. This behavior is deprecated in 0.24 and will be removed in 1.1 (renaming of 0.26). Please convert your data to numeric values explicitly instead.\n",
      "  return f(*args, **kwargs)\n",
      "C:\\Users\\Admin\\anaconda3\\lib\\site-packages\\sklearn\\utils\\validation.py:63: FutureWarning: Arrays of bytes/strings is being converted to decimal numbers if dtype='numeric'. This behavior is deprecated in 0.24 and will be removed in 1.1 (renaming of 0.26). Please convert your data to numeric values explicitly instead.\n",
      "  return f(*args, **kwargs)\n"
     ]
    },
    {
     "data": {
      "text/plain": [
       "array([[128,  18],\n",
       "       [ 32,  53]], dtype=int64)"
      ]
     },
     "execution_count": 4,
     "metadata": {},
     "output_type": "execute_result"
    }
   ],
   "source": [
    "# load the daibetis dataset\n",
    "import csv\n",
    "file=open('Diabetis_data.csv')\n",
    "data=list(csv.reader(file))\n",
    "X=[]\n",
    "y=[]\n",
    "# store the feature matrix (X) and response vector (y)\n",
    "for row in data:\n",
    "    X.append(row[:-1])\n",
    "    y.append(row[-1])\n",
    "print(len(X))\n",
    "print(len(y))\n",
    "\n",
    "# splitting X and y into training and testing sets\n",
    "from sklearn.model_selection import train_test_split\n",
    "X_train, X_test, y_train, y_test = train_test_split(X, y, test_size=0.3, random_state=1)\n",
    "\n",
    "print(\"Number of training Instances:\",len(X_train))\n",
    "print(\"Number of testing Instances:\",len(y_test))\n",
    "\n",
    "# training the model on training set\n",
    "from sklearn.naive_bayes import GaussianNB\n",
    "gnb = GaussianNB()\n",
    "gnb.fit(X_train, y_train)\n",
    "\n",
    "# making predictions on the testing set\n",
    "y_pred = gnb.predict(X_test)\n",
    "\n",
    "# comparing actual response values (y_test) with predicted response values (y_pred)\n",
    "from sklearn import metrics\n",
    "print(\"Gaussian Naive Bayes model accuracy(in %):\", metrics.accuracy_score(y_test, y_pred)*100)\n",
    "#print(metrics.classification_report(y_test, y_pred))\n",
    "metrics.confusion_matrix(y_test, y_pred)"
   ]
  },
  {
   "cell_type": "markdown",
   "id": "4575dc19",
   "metadata": {},
   "source": [
    "### BP"
   ]
  },
  {
   "cell_type": "code",
   "execution_count": 5,
   "id": "b33edc41",
   "metadata": {},
   "outputs": [
    {
     "name": "stdout",
     "output_type": "stream",
     "text": [
      "[[{'w': [0.13436424411240122, 0.8474337369372327, 0.763774618976614]},\n",
      "  {'w': [0.2550690257394217, 0.49543508709194095, 0.4494910647887381]}],\n",
      " [{'w': [0.651592972722763, 0.7887233511355132, 0.0938595867742349]},\n",
      "  {'w': [0.02834747652200631, 0.8357651039198697, 0.43276706790505337]}]]\n",
      "epoch=0, lrate=0.500,error=5.440\n",
      "epoch=1, lrate=0.500,error=5.333\n",
      "epoch=2, lrate=0.500,error=5.353\n",
      "epoch=3, lrate=0.500,error=5.378\n",
      "epoch=4, lrate=0.500,error=5.391\n",
      "epoch=5, lrate=0.500,error=5.394\n",
      "epoch=6, lrate=0.500,error=5.392\n",
      "epoch=7, lrate=0.500,error=5.388\n",
      "epoch=8, lrate=0.500,error=5.382\n",
      "epoch=9, lrate=0.500,error=5.376\n",
      "epoch=10, lrate=0.500,error=5.370\n",
      "epoch=11, lrate=0.500,error=5.363\n",
      "epoch=12, lrate=0.500,error=5.356\n",
      "epoch=13, lrate=0.500,error=5.350\n",
      "epoch=14, lrate=0.500,error=5.343\n",
      "epoch=15, lrate=0.500,error=5.337\n",
      "epoch=16, lrate=0.500,error=5.330\n",
      "epoch=17, lrate=0.500,error=5.323\n",
      "epoch=18, lrate=0.500,error=5.317\n",
      "epoch=19, lrate=0.500,error=5.310\n",
      "[{'delta': 0.007075129766006115,\n",
      "  'output': 0.8575212514344961,\n",
      "  'w': [0.13436424411240122, 0.8474337369372327, 0.763774618976614]},\n",
      " {'delta': 0.015529678943784878,\n",
      "  'output': 0.9173465422684997,\n",
      "  'w': [0.2550690257394217, 0.49543508709194095, 0.4494910647887381]}]\n",
      "[{'delta': -0.10272845214815102,\n",
      "  'output': 0.4213414492550106,\n",
      "  'w': [-0.1506943575429818, -0.40884520589829626, -0.3285441795150825]},\n",
      " {'delta': 0.10139414318489678,\n",
      "  'output': 0.5829460290261248,\n",
      "  'w': [0.5065408521155171, 1.7000377856935267, 0.03918328638995719]}]\n"
     ]
    }
   ],
   "source": [
    "from random import random,seed,randint\n",
    "from pprint import pprint\n",
    "def initialize(n_inputs,n_hidden,n_output):\n",
    "    network=[]\n",
    "    hidden_layer=[{'w':[random() for i in range(n_inputs+1)]} for i in range(n_hidden)] #Initialize Weights and Biases for hidden layers\n",
    "    network.append(hidden_layer)\n",
    "    output_layer=[{'w':[random() for i in range(n_hidden+1)]} for i in range(n_output)] #Initialize Weights and Biases for output layer\n",
    "    network.append(output_layer)\n",
    "    return network\n",
    "def activate(w,i):\n",
    "    activation=w[-1] #Bias value is -1\n",
    "    for x in range(len(w)-1):\n",
    "        activation+=w[x]*i[x] #WX similar to WiXi + Bias ie activation=activation + Wixi\n",
    "        return activation #WX+B\n",
    "from math import exp\n",
    "def sigmoid(a):\n",
    "    return 1/(1+exp(-a))\n",
    "def forward_prop(network,row):\n",
    "    inputs=row\n",
    "    for layer in network:\n",
    "        new_inputs=[]\n",
    "        for neuron in layer:\n",
    "            activation=activate(neuron['w'],inputs) #Compute Activations\n",
    "            neuron['output']=sigmoid(activation) #Compute Sigmoid\n",
    "            new_inputs.append(neuron['output']) #Adds it to the output layer\n",
    "        inputs=new_inputs #new_inputs values now becomes the input\n",
    "    return inputs\n",
    "def sigmoid_derivative(output):\n",
    "    return output * (1-output) #Derivative of 1/(1+e^-x)\n",
    "def backprop(network,expected): #expected is our expected output value we'd use to compute the error\n",
    "    for i in reversed(range(len(network))): #Prints the list ie \"Network\" in reversed order\n",
    "        layer=network[i] #network contains what? see below\n",
    "        errors=[] #initialize error values to an empty list\n",
    "        if i!=len(network)-1: #Output Layer\n",
    "            for j in range(len(layer)):\n",
    "                error=0 #Assign error values to 0\n",
    "                for neuron in network[i+1]:\n",
    "                    error+=(neuron['w'][j]*neuron['delta'])#Calculates and Updates the error\n",
    "                errors.append(error)\n",
    "        else:\n",
    "                for j in range(len(layer)):\n",
    "                    neuron=layer[j]\n",
    "                    errors.append(expected[j]-neuron['output']) #Calculates and appends the errors\n",
    "        for j in range(len(layer)):\n",
    "                neuron=layer[j]\n",
    "                neuron['delta']=errors[j]*sigmoid_derivative(neuron['output']) #Compute Gradients\n",
    "def update_weights(network,row,lrate): #Gradient Descent\n",
    "    for i in range(len(network)):\n",
    "        inputs=row[:-1] #Takes all except last row \n",
    "        if i!=0: \n",
    "            inputs=[neuron['output'] for neuron in network[i-1]]\n",
    "            for neuron in network[i]:\n",
    "                for j in range(len(inputs)):\n",
    "                    neuron['w'][j]+=lrate*neuron['delta']*inputs[j] #Weights update similar to w5 + n*Edy*xi\n",
    "                    neuron['w'][-1]+=lrate*neuron['delta'] #Bias is -1 and its updated\n",
    "def train_network(network,train,lrate,epochs,n_output):\n",
    "    for epoch in range(epochs):\n",
    "        sum_err=0\n",
    "        for row in train:\n",
    "            outputs=forward_prop(network,row)\n",
    "            expected=[0 for i in range(n_output)]\n",
    "            expected[row[-1]]=1\n",
    "            sum_err+=sum([(expected[i]-outputs[i])**2 for i in range(len(expected))])#Computes the error\n",
    "            backprop(network,expected)#Calls backpropagation\n",
    "            update_weights(network,row,lrate)#Finally weights are updated\n",
    "        print('epoch=%d, lrate=%.3f,error=%.3f'%(epoch,lrate,sum_err))\n",
    "seed(1)\n",
    "data=[[2.7810836,2.550537003,0],\n",
    "      [1.465489372,2.362125076,0],\n",
    "      [3.396561688,4.400293529,0],\n",
    "      [1.38807019,1.850220317,0],\n",
    "      [3.06407232,3.005305973,0],\n",
    "      [7.627531214,2.759262235,1],\n",
    "      [5.332441248,2.088626775,1],\n",
    "      [6.922596716,1.77106367,1],\n",
    "      [8.675418651,-0.242068655,1],\n",
    "      [7.673756466,3.508563011,1]] #This dataset contain 2 input inits and 1 output unit\n",
    "n_inputs=len(data[0])-1\n",
    "n_outputs=len(set(row[-1] for row in data))\n",
    "network=initialize(n_inputs,2,n_outputs)\n",
    "pprint(network)\n",
    "train_network(network,data,0.5,20,n_outputs)\n",
    "for layer in network:\n",
    "    pprint(layer)"
   ]
  },
  {
   "cell_type": "code",
   "execution_count": null,
   "id": "469006c3",
   "metadata": {},
   "outputs": [],
   "source": []
  }
 ],
 "metadata": {
  "kernelspec": {
   "display_name": "Python 3 (ipykernel)",
   "language": "python",
   "name": "python3"
  },
  "language_info": {
   "codemirror_mode": {
    "name": "ipython",
    "version": 3
   },
   "file_extension": ".py",
   "mimetype": "text/x-python",
   "name": "python",
   "nbconvert_exporter": "python",
   "pygments_lexer": "ipython3",
   "version": "3.9.7"
  }
 },
 "nbformat": 4,
 "nbformat_minor": 5
}
